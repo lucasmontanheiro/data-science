{
  "nbformat": 4,
  "nbformat_minor": 0,
  "metadata": {
    "colab": {
      "name": "Data_Science_04_Data_Sourcing_02_Google_Sheets.ipynb",
      "provenance": [],
      "authorship_tag": "ABX9TyNnn4w3shqI8TSqzt1swvgE",
      "include_colab_link": true
    },
    "kernelspec": {
      "name": "python3",
      "display_name": "Python 3"
    },
    "language_info": {
      "name": "python"
    }
  },
  "cells": [
    {
      "cell_type": "markdown",
      "metadata": {
        "id": "view-in-github",
        "colab_type": "text"
      },
      "source": [
        "<a href=\"https://colab.research.google.com/github/lucasmontanheiro/colab/blob/main/Theory/Data_Science_04_Data_Sourcing_02_Google_Sheets.ipynb\" target=\"_parent\"><img src=\"https://colab.research.google.com/assets/colab-badge.svg\" alt=\"Open In Colab\"/></a>"
      ]
    },
    {
      "cell_type": "markdown",
      "source": [
        "#Data Sourcing\n",
        "\n",
        "###Google Sheets"
      ],
      "metadata": {
        "id": "Y5j-IqDkCSY4"
      }
    },
    {
      "cell_type": "code",
      "execution_count": null,
      "metadata": {
        "id": "O5BFgapNCJ1S"
      },
      "outputs": [],
      "source": [
        "# Move data from Google Sheets to Python\n",
        "from colabtools import sheets\n",
        "import pandas as pd\n",
        "\n",
        "s_id = sheets.get_spreadsheet_id('https://docs.google.com/spreadsheets/d/1N37BqN4Or80ufa_HyzdMCj555RuBTB2k63sgN1xv9xA/edit#gid=0')\n",
        "w_id = sheets.get_worksheet_id('https://docs.google.com/spreadsheets/d/1N37BqN4Or80ufa_HyzdMCj555RuBTB2k63sgN1xv9xA/edit#gid=0')\n",
        "# Create df, a pandas DataFrame replicating all the data from the Sheet \n",
        "# and worksheet you chose\n",
        "df = sheets.get_cells(s_id, w_id, has_col_header = True)\n",
        "df"
      ]
    },
    {
      "cell_type": "code",
      "source": [
        "# Move data from Python to a new Google Sheet\n",
        "# This code snippet assumes there is a pandas DataFrame called df\n",
        "from colabtools import sheets\n",
        "\n",
        "s_id = sheets.create_spreadsheet('python_training_output')\n",
        "\n",
        "# Save the contents of your df DataFrame to the sheet you just created\n",
        "# the second argument, 0, is the ID of the worksheet (i.e. tab)\n",
        "# By default, the ID of the first worksheet is 0\n",
        "# To add data to other worsheets, change this value\n",
        "\n",
        "sheets.update_cells(s_id, 0, df, include_col_header = True) "
      ],
      "metadata": {
        "id": "YvPSc87oCYaw"
      },
      "execution_count": null,
      "outputs": []
    },
    {
      "cell_type": "code",
      "source": [
        "# You can also move data from Python to an existing Google Sheet\n",
        "\n",
        "from colabtools import sheets\n",
        "\n",
        "# Find the id of your target sheet\n",
        "\n",
        "s_id = sheets.get_spreadsheet_id('https://docs.google.com/spreadsheets/d/1nUrX8zONWAkh7CR9FdqMIGDqY5KfJyO6zcd20tHIORQ/edit#gid=0')\n",
        "\n",
        "# Create a new worksheet\n",
        "w_id = sheets.add_worksheet(s_id, 'Sheet2')\n",
        "\n",
        "# Finally, you can put the Pandas data in the desired place\n",
        "\n",
        "sheets.update_cells(s_id, w_id, df, include_col_header=True)"
      ],
      "metadata": {
        "id": "zPXPiqoXCbeX"
      },
      "execution_count": null,
      "outputs": []
    }
  ]
}