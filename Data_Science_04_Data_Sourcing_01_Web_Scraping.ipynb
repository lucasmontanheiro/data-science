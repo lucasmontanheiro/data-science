{
  "nbformat": 4,
  "nbformat_minor": 0,
  "metadata": {
    "colab": {
      "name": "Data_Science_04_Data_Sourcing_01_Web_Scraping.ipynb",
      "provenance": [],
      "authorship_tag": "ABX9TyOL8K5a8qbxJ4ILhAt9B68q",
      "include_colab_link": true
    },
    "kernelspec": {
      "name": "python3",
      "display_name": "Python 3"
    },
    "language_info": {
      "name": "python"
    }
  },
  "cells": [
    {
      "cell_type": "markdown",
      "metadata": {
        "id": "view-in-github",
        "colab_type": "text"
      },
      "source": [
        "<a href=\"https://colab.research.google.com/github/lucasmontanheiro/colab/blob/main/Theory/Data_Science_04_Data_Sourcing_01_Web_Scraping.ipynb\" target=\"_parent\"><img src=\"https://colab.research.google.com/assets/colab-badge.svg\" alt=\"Open In Colab\"/></a>"
      ]
    },
    {
      "cell_type": "markdown",
      "source": [
        "#Data Source via Web Scraping\n",
        "\n",
        "###Segment 1 - \n",
        "\n",
        "Four BeautifulSoup Object Types\n",
        "1. BeautifulSoup object\n",
        "2. Tag object\n",
        "3. NavigableString object\n",
        "4. Comment object"
      ],
      "metadata": {
        "id": "rtRsIE1Y5Dye"
      }
    },
    {
      "cell_type": "code",
      "execution_count": null,
      "metadata": {
        "colab": {
          "base_uri": "https://localhost:8080/"
        },
        "id": "-zj33P1c44fw",
        "outputId": "e85823e8-d317-4ca6-8194-721a22c4ae00"
      },
      "outputs": [
        {
          "output_type": "stream",
          "name": "stdout",
          "text": [
            "3.7.13 (default, Apr 24 2022, 01:04:09) \n",
            "[GCC 7.5.0]\n"
          ]
        }
      ],
      "source": [
        "import sys\n",
        "print(sys.version)"
      ]
    },
    {
      "cell_type": "code",
      "source": [
        "from bs4 import BeautifulSoup"
      ],
      "metadata": {
        "id": "9b9PVAlJ55Xg"
      },
      "execution_count": null,
      "outputs": []
    },
    {
      "cell_type": "code",
      "source": [
        "our_html_document = '''\n",
        "<html><head><title>IoT Articles</title></head>\n",
        "<body>\n",
        "<p class='title'><b>2018 Trends: Best New IoT Device Ideas for Data Scientists and Engineers</b></p>\n",
        "\n",
        "<p class='description'>It’s almost 2018 and IoT is on the cusp of an explosive expansion. In this article, I offer you a listing of new IoT device ideas that you can use...\n",
        "<br>\n",
        "<br>\n",
        "It’s almost 2018 and IoT is on the cusp of an explosive expansion. In this article, I offer you a listing of new IoT device ideas that you can use to get practice in designing your first IoT applications.\n",
        "<h1>Looking Back at My Coolest IoT Find in 2017</h1>\n",
        "Before going into detail about best new IoT device ideas, here’s the backstory. <span style=\"text-decoration: underline;\"><strong><a href=\"http://bit.ly/LPlNDJj\">Last month Ericsson Digital invited me</a></strong></span> to tour the Ericsson Studio in Kista, Sweden. Up until that visit, <a href=\"http://www.data-mania.com/blog/m2m-vs-iot/\">IoT</a> had been largely theoretical to me. Of course, I know the usual mumbo-jumbo about wearables and IoT-connected fitness trackers. That stuff is all well and good, but it’s somewhat old hat – plus I am not sure we are really benefiting so much from those, so I’m not that impressed.\n",
        "\n",
        "It wasn’t until I got to the Ericsson Studio that I became extremely impressed by how far IoT has really come. Relying on the promise of the 5g network expansion, IoT-powered smart devices are on the cusp of an explosive growth in adoption. It was Ericsson’s Smart Car that sent me reeling:<a href=\"bit.ly/LPlNDJj\"><img class=\"aligncenter size-full wp-image-3802\" src=\"http://www.data-mania.com/blog/wp-content/uploads/2017/12/new-IoT-device-ideas.jpg\" alt=\"Get your new iot device ideas here\" width=\"1024\" height=\"683\" /></a>\n",
        "\n",
        "This car is connected to Ericsson’s Connected Vehicle Cloud, an IoT platform that manages services for the Smart Cars to which it’s connected. The Volvo pictured above acts as a drop-off location for groceries that have been ordered by its owner.\n",
        "\n",
        "To understand how it works, imagine you’re pulling your normal 9-to-5 and you know you need to grab some groceries on your way home. Well, since you’re smart you’ve used Ericsson IoT platform to connect your car to the local grocery delivery service (<a href=\"http://mat.se/\">Mat.se</a>), so all you need to do is open the Mat.se app and make your usual order. Mat.se automatically handles the payment, grocery selection, delivery, and delivery scheduling. Since your car is IoT-enabled, Mat.se issues its trusted delivery agent a 1-time token to use for opening your car in order to place your groceries in your car for you at 4:40 pm (just before you get off from work).\n",
        "\n",
        "To watch some of the amazing IoT device demos I witnessed at Ericsson Studio, make sure to go <span style=\"text-decoration: underline;\"><strong><a href=\"http://bit.ly/LPlNDJj\">watch the videos on this page</a></strong></span>.\n",
        "<h1>Future Trends for IoT in 2018</h1>\n",
        "New IoT device ideas won’t do you much good unless you at least know the basic technology trends that are set to impact IoT over the next year(s). These include:\n",
        "<ol>\n",
        " \t<li><strong>Big Data</strong> &amp; Data Engineering: Sensors that are embedded within IoT devices spin off machine-generated data like it’s going out of style. For IoT to function, the platform must be solidly engineered to handle big data. Be assured, that requires some serious data engineering.</li>\n",
        " \t<li><strong>Machine Learning</strong> Data Science: While a lot of IoT devices are still operated according to rules-based decision criteria, the age of artificial intelligence is upon us. IoT will increasingly depend on machine learning algorithms to control device operations so that devices are able to autonomously respond to a complex set of overlapping stimuli.</li>\n",
        " \t<li><strong>Blockchain</strong>-Enabled Security: Above all else, IoT networks must be secure. Blockchain technology is primed to meet the security demands that come along with building and expanding the IoT.</li>\n",
        "</ol>\n",
        "<h1>Best New IoT Device Ideas</h1>\n",
        "This listing of new IoT device ideas has been sub-divided according to the main technology upon which the IoT devices are built. Below I’m providing a list of new IoT device ideas, but for detailed instructions on how to build these IoT applications, I recommend the <a href=\"https://click.linksynergy.com/deeplink?id=*JDLXjeE*wk&amp;mid=39197&amp;murl=https%3A%2F%2Fwww.udemy.com%2Ftopic%2Finternet-of-things%2F%3Fsort%3Dhighest-rated\">IoT courses on Udemy</a> (ß Please note: if you purchase a Udemy course through this link, I may receive a small commission), or courses that are available at <a href=\"http://www.skyfilabs.com/iot-online-courses\">SkyFi</a> and <a href=\"https://www.coursera.org/specializations/iot\">Coursera</a>.\n",
        "<h2>Raspberry Pi IoT Ideas</h2>\n",
        "Using Raspberry Pi as open-source hardware, you can build IoT applications that offer any one of the following benefits:\n",
        "<ol>\n",
        " \t<li>Enable built-in sensing to build a weather station that measures ambient temperature and humidity</li>\n",
        " \t<li>Build a system that detects discrepancies in electrical readings to identify electricity theft</li>\n",
        " \t<li>Use IoT to build a Servo that is controlled by motion detection readings</li>\n",
        " \t<li>Build a smart control switch that operates devices based on external stimuli. Use this for home automation.</li>\n",
        " \t<li>Build a music playing application that enables music for each room in your house</li>\n",
        " \t<li>Implement biometrics on IoT-connected devices</li>\n",
        "</ol>\n",
        "<h2>Arduino IoT Ideas</h2>\n",
        "There are a number of new IoT device ideas that deploy Arduino as a microcontroller. These include:\n",
        "<ol>\n",
        " \t<li>Integrate Arduino with Android to build a remote-control RGB LED device.</li>\n",
        " \t<li>Connect PIR sensors across the IoT to implement a smart building.</li>\n",
        " \t<li>Build a temperature and sunlight sensor system to remotely monitor and control the conditions of your garden.</li>\n",
        " \t<li>Deploy Arduino and IoT to automate your neighborhood streetlights.</li>\n",
        " \t<li>Build a smart irrigation system based on IoT-connected temperature and moisture sensors built-in to your agricultural plants.</li>\n",
        "</ol>\n",
        "[caption id=\"attachment_3807\" align=\"aligncenter\" width=\"300\"]<a href=\"bit.ly/LPlNDJj\"><img class=\"wp-image-3807 size-medium\" src=\"http://www.data-mania.com/blog/wp-content/uploads/2017/12/IMG_3058-300x295.jpg\" alt=\"\" width=\"300\" height=\"295\" /></a> An IoT Chatbot Tree at the Ericsson Studio[/caption]\n",
        "<h2>Wireless (GSM) IoT Ideas</h2>\n",
        "Several new IoT device ideas are developed around the GSM wireless network. Those are:\n",
        "<ol>\n",
        " \t<li>Monitor soil moisture to automate agricultural irrigation cycles.</li>\n",
        " \t<li>Automate and control the conditions of a greenhouse.</li>\n",
        " \t<li>Enable bio-metrics to build a smart security system for your home or office building</li>\n",
        " \t<li>Build an autonomously operating fitness application that automatically makes recommendations based on motion detection and heart rate sensors that are embedded on wearable fitness trackers.</li>\n",
        " \t<li>Build a healthcare monitoring system that tracks, informs, and automatically alerts healthcare providers based on sensor readings that describe a patients vital statistics (like temperature, pulse, blood pressure, etc).</li>\n",
        "</ol>\n",
        "<h2>IoT Automation Ideas</h2>\n",
        "Almost all new IoT device ideas offer automation benefits, but to outline a few more ideas:\n",
        "<ol>\n",
        " \t<li>Build an IoT device that automatically locates and reports the closest nearby parking spot.</li>\n",
        " \t<li>Build a motion detection system that automatically issues emails or sms messages to alert home owners of a likely home invasion.</li>\n",
        " \t<li>Use temperature sensors connected across the IoT to automatically alert you if your home windows or doors have been left open.</li>\n",
        " \t<li>Use bio-metric sensors to build a smart system that automate security for your home or office building</li>\n",
        "</ol>\n",
        "To learn more about IoT and what’s happening on the leading edge, be sure to pop over to Ericsson’s Studio Tour recap and <span style=\"text-decoration: underline;\"><strong><a href=\"http://bit.ly/LPlNDJj\">watch these videos</a></strong></span>.\n",
        "\n",
        "<em>(I captured some of this content on behalf of DevMode Strategies during an invite-only tour of the Ericsson Studio in Kista. Rest assure, the text and opinions are my own</em>)\n",
        "<p class='description'>...</p>\n",
        "'''"
      ],
      "metadata": {
        "id": "s9OwTwrU6CXm"
      },
      "execution_count": null,
      "outputs": []
    },
    {
      "cell_type": "markdown",
      "source": [
        "**BeautifulSoup object**"
      ],
      "metadata": {
        "id": "Jgq2LmA66WYN"
      }
    },
    {
      "cell_type": "code",
      "source": [
        "our_soup_object = BeautifulSoup(our_html_document, \"html.parser\")\n",
        "print(our_soup_object)"
      ],
      "metadata": {
        "colab": {
          "base_uri": "https://localhost:8080/"
        },
        "id": "zkkTdfie6TFO",
        "outputId": "9e71dec3-fb3b-4d63-dd8b-649822556e8c"
      },
      "execution_count": null,
      "outputs": [
        {
          "output_type": "stream",
          "name": "stdout",
          "text": [
            "\n",
            "<html><head><title>IoT Articles</title></head>\n",
            "<body>\n",
            "<p class=\"title\"><b>2018 Trends: Best New IoT Device Ideas for Data Scientists and Engineers</b></p>\n",
            "<p class=\"description\">It’s almost 2018 and IoT is on the cusp of an explosive expansion. In this article, I offer you a listing of new IoT device ideas that you can use...\n",
            "<br/>\n",
            "<br/>\n",
            "It’s almost 2018 and IoT is on the cusp of an explosive expansion. In this article, I offer you a listing of new IoT device ideas that you can use to get practice in designing your first IoT applications.\n",
            "<h1>Looking Back at My Coolest IoT Find in 2017</h1>\n",
            "Before going into detail about best new IoT device ideas, here’s the backstory. <span style=\"text-decoration: underline;\"><strong><a href=\"http://bit.ly/LPlNDJj\">Last month Ericsson Digital invited me</a></strong></span> to tour the Ericsson Studio in Kista, Sweden. Up until that visit, <a href=\"http://www.data-mania.com/blog/m2m-vs-iot/\">IoT</a> had been largely theoretical to me. Of course, I know the usual mumbo-jumbo about wearables and IoT-connected fitness trackers. That stuff is all well and good, but it’s somewhat old hat – plus I am not sure we are really benefiting so much from those, so I’m not that impressed.\n",
            "\n",
            "It wasn’t until I got to the Ericsson Studio that I became extremely impressed by how far IoT has really come. Relying on the promise of the 5g network expansion, IoT-powered smart devices are on the cusp of an explosive growth in adoption. It was Ericsson’s Smart Car that sent me reeling:<a href=\"bit.ly/LPlNDJj\"><img alt=\"Get your new iot device ideas here\" class=\"aligncenter size-full wp-image-3802\" height=\"683\" src=\"http://www.data-mania.com/blog/wp-content/uploads/2017/12/new-IoT-device-ideas.jpg\" width=\"1024\"/></a>\n",
            "\n",
            "This car is connected to Ericsson’s Connected Vehicle Cloud, an IoT platform that manages services for the Smart Cars to which it’s connected. The Volvo pictured above acts as a drop-off location for groceries that have been ordered by its owner.\n",
            "\n",
            "To understand how it works, imagine you’re pulling your normal 9-to-5 and you know you need to grab some groceries on your way home. Well, since you’re smart you’ve used Ericsson IoT platform to connect your car to the local grocery delivery service (<a href=\"http://mat.se/\">Mat.se</a>), so all you need to do is open the Mat.se app and make your usual order. Mat.se automatically handles the payment, grocery selection, delivery, and delivery scheduling. Since your car is IoT-enabled, Mat.se issues its trusted delivery agent a 1-time token to use for opening your car in order to place your groceries in your car for you at 4:40 pm (just before you get off from work).\n",
            "\n",
            "To watch some of the amazing IoT device demos I witnessed at Ericsson Studio, make sure to go <span style=\"text-decoration: underline;\"><strong><a href=\"http://bit.ly/LPlNDJj\">watch the videos on this page</a></strong></span>.\n",
            "<h1>Future Trends for IoT in 2018</h1>\n",
            "New IoT device ideas won’t do you much good unless you at least know the basic technology trends that are set to impact IoT over the next year(s). These include:\n",
            "<ol>\n",
            "<li><strong>Big Data</strong> &amp; Data Engineering: Sensors that are embedded within IoT devices spin off machine-generated data like it’s going out of style. For IoT to function, the platform must be solidly engineered to handle big data. Be assured, that requires some serious data engineering.</li>\n",
            "<li><strong>Machine Learning</strong> Data Science: While a lot of IoT devices are still operated according to rules-based decision criteria, the age of artificial intelligence is upon us. IoT will increasingly depend on machine learning algorithms to control device operations so that devices are able to autonomously respond to a complex set of overlapping stimuli.</li>\n",
            "<li><strong>Blockchain</strong>-Enabled Security: Above all else, IoT networks must be secure. Blockchain technology is primed to meet the security demands that come along with building and expanding the IoT.</li>\n",
            "</ol>\n",
            "<h1>Best New IoT Device Ideas</h1>\n",
            "This listing of new IoT device ideas has been sub-divided according to the main technology upon which the IoT devices are built. Below I’m providing a list of new IoT device ideas, but for detailed instructions on how to build these IoT applications, I recommend the <a href=\"https://click.linksynergy.com/deeplink?id=*JDLXjeE*wk&amp;mid=39197&amp;murl=https%3A%2F%2Fwww.udemy.com%2Ftopic%2Finternet-of-things%2F%3Fsort%3Dhighest-rated\">IoT courses on Udemy</a> (ß Please note: if you purchase a Udemy course through this link, I may receive a small commission), or courses that are available at <a href=\"http://www.skyfilabs.com/iot-online-courses\">SkyFi</a> and <a href=\"https://www.coursera.org/specializations/iot\">Coursera</a>.\n",
            "<h2>Raspberry Pi IoT Ideas</h2>\n",
            "Using Raspberry Pi as open-source hardware, you can build IoT applications that offer any one of the following benefits:\n",
            "<ol>\n",
            "<li>Enable built-in sensing to build a weather station that measures ambient temperature and humidity</li>\n",
            "<li>Build a system that detects discrepancies in electrical readings to identify electricity theft</li>\n",
            "<li>Use IoT to build a Servo that is controlled by motion detection readings</li>\n",
            "<li>Build a smart control switch that operates devices based on external stimuli. Use this for home automation.</li>\n",
            "<li>Build a music playing application that enables music for each room in your house</li>\n",
            "<li>Implement biometrics on IoT-connected devices</li>\n",
            "</ol>\n",
            "<h2>Arduino IoT Ideas</h2>\n",
            "There are a number of new IoT device ideas that deploy Arduino as a microcontroller. These include:\n",
            "<ol>\n",
            "<li>Integrate Arduino with Android to build a remote-control RGB LED device.</li>\n",
            "<li>Connect PIR sensors across the IoT to implement a smart building.</li>\n",
            "<li>Build a temperature and sunlight sensor system to remotely monitor and control the conditions of your garden.</li>\n",
            "<li>Deploy Arduino and IoT to automate your neighborhood streetlights.</li>\n",
            "<li>Build a smart irrigation system based on IoT-connected temperature and moisture sensors built-in to your agricultural plants.</li>\n",
            "</ol>\n",
            "[caption id=\"attachment_3807\" align=\"aligncenter\" width=\"300\"]<a href=\"bit.ly/LPlNDJj\"><img alt=\"\" class=\"wp-image-3807 size-medium\" height=\"295\" src=\"http://www.data-mania.com/blog/wp-content/uploads/2017/12/IMG_3058-300x295.jpg\" width=\"300\"/></a> An IoT Chatbot Tree at the Ericsson Studio[/caption]\n",
            "<h2>Wireless (GSM) IoT Ideas</h2>\n",
            "Several new IoT device ideas are developed around the GSM wireless network. Those are:\n",
            "<ol>\n",
            "<li>Monitor soil moisture to automate agricultural irrigation cycles.</li>\n",
            "<li>Automate and control the conditions of a greenhouse.</li>\n",
            "<li>Enable bio-metrics to build a smart security system for your home or office building</li>\n",
            "<li>Build an autonomously operating fitness application that automatically makes recommendations based on motion detection and heart rate sensors that are embedded on wearable fitness trackers.</li>\n",
            "<li>Build a healthcare monitoring system that tracks, informs, and automatically alerts healthcare providers based on sensor readings that describe a patients vital statistics (like temperature, pulse, blood pressure, etc).</li>\n",
            "</ol>\n",
            "<h2>IoT Automation Ideas</h2>\n",
            "Almost all new IoT device ideas offer automation benefits, but to outline a few more ideas:\n",
            "<ol>\n",
            "<li>Build an IoT device that automatically locates and reports the closest nearby parking spot.</li>\n",
            "<li>Build a motion detection system that automatically issues emails or sms messages to alert home owners of a likely home invasion.</li>\n",
            "<li>Use temperature sensors connected across the IoT to automatically alert you if your home windows or doors have been left open.</li>\n",
            "<li>Use bio-metric sensors to build a smart system that automate security for your home or office building</li>\n",
            "</ol>\n",
            "To learn more about IoT and what’s happening on the leading edge, be sure to pop over to Ericsson’s Studio Tour recap and <span style=\"text-decoration: underline;\"><strong><a href=\"http://bit.ly/LPlNDJj\">watch these videos</a></strong></span>.\n",
            "\n",
            "<em>(I captured some of this content on behalf of DevMode Strategies during an invite-only tour of the Ericsson Studio in Kista. Rest assure, the text and opinions are my own</em>)\n",
            "<p class=\"description\">...</p>\n",
            "</p></body></html>\n"
          ]
        }
      ]
    },
    {
      "cell_type": "code",
      "source": [
        "print(our_soup_object.prettify()[0:300])"
      ],
      "metadata": {
        "colab": {
          "base_uri": "https://localhost:8080/"
        },
        "id": "N5MKk3aQ6qm2",
        "outputId": "722cff20-0844-4543-cf09-755199187191"
      },
      "execution_count": null,
      "outputs": [
        {
          "output_type": "stream",
          "name": "stdout",
          "text": [
            "<html>\n",
            " <head>\n",
            "  <title>\n",
            "   IoT Articles\n",
            "  </title>\n",
            " </head>\n",
            " <body>\n",
            "  <p class=\"title\">\n",
            "   <b>\n",
            "    2018 Trends: Best New IoT Device Ideas for Data Scientists and Engineers\n",
            "   </b>\n",
            "  </p>\n",
            "  <p class=\"description\">\n",
            "   It’s almost 2018 and IoT is on the cusp of an explosive expansion. In this article,\n"
          ]
        }
      ]
    },
    {
      "cell_type": "markdown",
      "source": [
        "####Tag objects\n",
        "\n",
        "**Tag names**"
      ],
      "metadata": {
        "id": "cGhVPVHc69ya"
      }
    },
    {
      "cell_type": "code",
      "source": [
        "soup_object = BeautifulSoup('<h1 attribute_1 = \"Heading Level 1\"\">Future Trends for IoT in 2018</h1>', \"lxml\")\n",
        "\n",
        "tag = soup_object.h1\n",
        "type(tag)"
      ],
      "metadata": {
        "colab": {
          "base_uri": "https://localhost:8080/"
        },
        "id": "2y78-GZR67d1",
        "outputId": "a3af0eb4-333c-4779-e368-2a2f57c2bcdf"
      },
      "execution_count": null,
      "outputs": [
        {
          "output_type": "execute_result",
          "data": {
            "text/plain": [
              "bs4.element.Tag"
            ]
          },
          "metadata": {},
          "execution_count": 9
        }
      ]
    },
    {
      "cell_type": "code",
      "source": [
        "print(tag)"
      ],
      "metadata": {
        "colab": {
          "base_uri": "https://localhost:8080/"
        },
        "id": "JxOu5WcC7ex2",
        "outputId": "8d99753a-93a4-4387-d0b4-931de3c3fe94"
      },
      "execution_count": null,
      "outputs": [
        {
          "output_type": "stream",
          "name": "stdout",
          "text": [
            "<h1 attribute_1=\"Heading Level 1\">Future Trends for IoT in 2018</h1>\n"
          ]
        }
      ]
    },
    {
      "cell_type": "code",
      "source": [
        "tag.name"
      ],
      "metadata": {
        "colab": {
          "base_uri": "https://localhost:8080/",
          "height": 35
        },
        "id": "jZSYEsf-77Sj",
        "outputId": "c85cb208-3cff-4dd1-9e8d-be33abc870e0"
      },
      "execution_count": null,
      "outputs": [
        {
          "output_type": "execute_result",
          "data": {
            "text/plain": [
              "'h1'"
            ],
            "application/vnd.google.colaboratory.intrinsic+json": {
              "type": "string"
            }
          },
          "metadata": {},
          "execution_count": 11
        }
      ]
    },
    {
      "cell_type": "code",
      "source": [
        "tag.name = 'heading 1'\n",
        "tag"
      ],
      "metadata": {
        "colab": {
          "base_uri": "https://localhost:8080/"
        },
        "id": "i2cEtGvo78Ya",
        "outputId": "bbdb56ea-897f-49f1-af0f-c7dade430c0e"
      },
      "execution_count": null,
      "outputs": [
        {
          "output_type": "execute_result",
          "data": {
            "text/plain": [
              "<heading 1 attribute_1=\"Heading Level 1\">Future Trends for IoT in 2018</heading 1>"
            ]
          },
          "metadata": {},
          "execution_count": 12
        }
      ]
    },
    {
      "cell_type": "code",
      "source": [
        "tag.name"
      ],
      "metadata": {
        "colab": {
          "base_uri": "https://localhost:8080/",
          "height": 35
        },
        "id": "AJj71St48Bkc",
        "outputId": "061e5ee2-e02f-4d34-dc12-1f07212f099c"
      },
      "execution_count": null,
      "outputs": [
        {
          "output_type": "execute_result",
          "data": {
            "text/plain": [
              "'heading 1'"
            ],
            "application/vnd.google.colaboratory.intrinsic+json": {
              "type": "string"
            }
          },
          "metadata": {},
          "execution_count": 13
        }
      ]
    },
    {
      "cell_type": "markdown",
      "source": [
        "**Tag attributes**"
      ],
      "metadata": {
        "id": "TBPfStxV8Gkb"
      }
    },
    {
      "cell_type": "code",
      "source": [
        "soup_object = BeautifulSoup('<h1 attribute_1 = \"Heading Level 1\"\">Future Trends for IoT in 2018</h1>', \"lxml\")\n",
        "tag = soup_object.h1\n",
        "tag"
      ],
      "metadata": {
        "colab": {
          "base_uri": "https://localhost:8080/"
        },
        "id": "oEvppcQr8FY7",
        "outputId": "d928739a-08b8-475a-8023-607bb93ac906"
      },
      "execution_count": null,
      "outputs": [
        {
          "output_type": "execute_result",
          "data": {
            "text/plain": [
              "<h1 attribute_1=\"Heading Level 1\">Future Trends for IoT in 2018</h1>"
            ]
          },
          "metadata": {},
          "execution_count": 14
        }
      ]
    },
    {
      "cell_type": "code",
      "source": [
        "tag[\"attribute_1\"]"
      ],
      "metadata": {
        "colab": {
          "base_uri": "https://localhost:8080/",
          "height": 35
        },
        "id": "NmkcvnZp8Uwj",
        "outputId": "1ded58bc-1175-4214-afd3-60791903fd3c"
      },
      "execution_count": null,
      "outputs": [
        {
          "output_type": "execute_result",
          "data": {
            "text/plain": [
              "'Heading Level 1'"
            ],
            "application/vnd.google.colaboratory.intrinsic+json": {
              "type": "string"
            }
          },
          "metadata": {},
          "execution_count": 15
        }
      ]
    },
    {
      "cell_type": "code",
      "source": [
        "tag.attrs"
      ],
      "metadata": {
        "colab": {
          "base_uri": "https://localhost:8080/"
        },
        "id": "0rYzIp7t8d9D",
        "outputId": "9d86181a-524b-4111-9ac0-d8a3443cabc6"
      },
      "execution_count": null,
      "outputs": [
        {
          "output_type": "execute_result",
          "data": {
            "text/plain": [
              "{'attribute_1': 'Heading Level 1'}"
            ]
          },
          "metadata": {},
          "execution_count": 16
        }
      ]
    },
    {
      "cell_type": "code",
      "source": [
        "tag[\"attribute_2\"] = \"Heading Level 1\"\n",
        "tag.attrs"
      ],
      "metadata": {
        "colab": {
          "base_uri": "https://localhost:8080/"
        },
        "id": "ZppH-N4K8ita",
        "outputId": "8c46e6cb-8983-4c0c-c327-f65f8a35bc46"
      },
      "execution_count": null,
      "outputs": [
        {
          "output_type": "execute_result",
          "data": {
            "text/plain": [
              "{'attribute_1': 'Heading Level 1', 'attribute_2': 'Heading Level 1'}"
            ]
          },
          "metadata": {},
          "execution_count": 17
        }
      ]
    },
    {
      "cell_type": "code",
      "source": [
        "tag"
      ],
      "metadata": {
        "colab": {
          "base_uri": "https://localhost:8080/"
        },
        "id": "RNrScScQ8rIa",
        "outputId": "e8e4747d-afc6-4814-ce09-5352140948a2"
      },
      "execution_count": null,
      "outputs": [
        {
          "output_type": "execute_result",
          "data": {
            "text/plain": [
              "<h1 attribute_1=\"Heading Level 1\" attribute_2=\"Heading Level 1\">Future Trends for IoT in 2018</h1>"
            ]
          },
          "metadata": {},
          "execution_count": 18
        }
      ]
    },
    {
      "cell_type": "code",
      "source": [
        "del tag[\"attribute_2\"]\n",
        "tag"
      ],
      "metadata": {
        "colab": {
          "base_uri": "https://localhost:8080/"
        },
        "id": "XsWOQfFV8uBj",
        "outputId": "89a4abc8-b324-4876-ed4c-db92fb6199bf"
      },
      "execution_count": null,
      "outputs": [
        {
          "output_type": "execute_result",
          "data": {
            "text/plain": [
              "<h1 attribute_1=\"Heading Level 1\">Future Trends for IoT in 2018</h1>"
            ]
          },
          "metadata": {},
          "execution_count": 19
        }
      ]
    },
    {
      "cell_type": "code",
      "source": [
        "del tag[\"attribute_1\"]\n",
        "tag.attrs"
      ],
      "metadata": {
        "colab": {
          "base_uri": "https://localhost:8080/"
        },
        "id": "zwP6bXn280nC",
        "outputId": "13654a73-bcdf-47ed-8a80-843f919583d8"
      },
      "execution_count": null,
      "outputs": [
        {
          "output_type": "execute_result",
          "data": {
            "text/plain": [
              "{}"
            ]
          },
          "metadata": {},
          "execution_count": 20
        }
      ]
    },
    {
      "cell_type": "markdown",
      "source": [
        "**Navigate a parse tree using tags**"
      ],
      "metadata": {
        "id": "aIxAi7kN8-Zv"
      }
    },
    {
      "cell_type": "code",
      "source": [
        "# First we will recreate our original parse tree.\n",
        "our_html_document = '''\n",
        "<html><head><title>IoT Articles</title></head>\n",
        "<body>\n",
        "<p class='title'><b>2018 Trends: Best New IoT Device Ideas for Data Scientists and Engineers</b></p>\n",
        "\n",
        "<p class='description'>It’s almost 2018 and IoT is on the cusp of an explosive expansion. In this article, I offer you a listing of new IoT device ideas that you can use...\n",
        "<br>\n",
        "<br>\n",
        "It’s almost 2018 and IoT is on the cusp of an explosive expansion. In this article, I offer you a listing of new IoT device ideas that you can use to get practice in designing your first IoT applications.\n",
        "<h1>Looking Back at My Coolest IoT Find in 2017</h1>\n",
        "Before going into detail about best new IoT device ideas, here’s the backstory. <span style=\"text-decoration: underline;\"><strong><a href=\"http://bit.ly/LPlNDJj\">Last month Ericsson Digital invited me</a></strong></span> to tour the Ericsson Studio in Kista, Sweden. Up until that visit, <a href=\"http://www.data-mania.com/blog/m2m-vs-iot/\">IoT</a> had been largely theoretical to me. Of course, I know the usual mumbo-jumbo about wearables and IoT-connected fitness trackers. That stuff is all well and good, but it’s somewhat old hat – plus I am not sure we are really benefiting so much from those, so I’m not that impressed.\n",
        "\n",
        "It wasn’t until I got to the Ericsson Studio that I became extremely impressed by how far IoT has really come. Relying on the promise of the 5g network expansion, IoT-powered smart devices are on the cusp of an explosive growth in adoption. It was Ericsson’s Smart Car that sent me reeling:<a href=\"bit.ly/LPlNDJj\"><img class=\"aligncenter size-full wp-image-3802\" src=\"http://www.data-mania.com/blog/wp-content/uploads/2017/12/new-IoT-device-ideas.jpg\" alt=\"Get your new iot device ideas here\" width=\"1024\" height=\"683\" /></a>\n",
        "\n",
        "This car is connected to Ericsson’s Connected Vehicle Cloud, an IoT platform that manages services for the Smart Cars to which it’s connected. The Volvo pictured above acts as a drop-off location for groceries that have been ordered by its owner.\n",
        "\n",
        "To understand how it works, imagine you’re pulling your normal 9-to-5 and you know you need to grab some groceries on your way home. Well, since you’re smart you’ve used Ericsson IoT platform to connect your car to the local grocery delivery service (<a href=\"http://mat.se/\">Mat.se</a>), so all you need to do is open the Mat.se app and make your usual order. Mat.se automatically handles the payment, grocery selection, delivery, and delivery scheduling. Since your car is IoT-enabled, Mat.se issues its trusted delivery agent a 1-time token to use for opening your car in order to place your groceries in your car for you at 4:40 pm (just before you get off from work).\n",
        "\n",
        "To watch some of the amazing IoT device demos I witnessed at Ericsson Studio, make sure to go <span style=\"text-decoration: underline;\"><strong><a href=\"http://bit.ly/LPlNDJj\">watch the videos on this page</a></strong></span>.\n",
        "<h1>Future Trends for IoT in 2018</h1>\n",
        "New IoT device ideas won’t do you much good unless you at least know the basic technology trends that are set to impact IoT over the next year(s). These include:\n",
        "<ol>\n",
        " \t<li><strong>Big Data</strong> &amp; Data Engineering: Sensors that are embedded within IoT devices spin off machine-generated data like it’s going out of style. For IoT to function, the platform must be solidly engineered to handle big data. Be assured, that requires some serious data engineering.</li>\n",
        " \t<li><strong>Machine Learning</strong> Data Science: While a lot of IoT devices are still operated according to rules-based decision criteria, the age of artificial intelligence is upon us. IoT will increasingly depend on machine learning algorithms to control device operations so that devices are able to autonomously respond to a complex set of overlapping stimuli.</li>\n",
        " \t<li><strong>Blockchain</strong>-Enabled Security: Above all else, IoT networks must be secure. Blockchain technology is primed to meet the security demands that come along with building and expanding the IoT.</li>\n",
        "</ol>\n",
        "<h1>Best New IoT Device Ideas</h1>\n",
        "This listing of new IoT device ideas has been sub-divided according to the main technology upon which the IoT devices are built. Below I’m providing a list of new IoT device ideas, but for detailed instructions on how to build these IoT applications, I recommend the <a href=\"https://click.linksynergy.com/deeplink?id=*JDLXjeE*wk&amp;mid=39197&amp;murl=https%3A%2F%2Fwww.udemy.com%2Ftopic%2Finternet-of-things%2F%3Fsort%3Dhighest-rated\">IoT courses on Udemy</a> (ß Please note: if you purchase a Udemy course through this link, I may receive a small commission), or courses that are available at <a href=\"http://www.skyfilabs.com/iot-online-courses\">SkyFi</a> and <a href=\"https://www.coursera.org/specializations/iot\">Coursera</a>.\n",
        "<h2>Raspberry Pi IoT Ideas</h2>\n",
        "Using Raspberry Pi as open-source hardware, you can build IoT applications that offer any one of the following benefits:\n",
        "<ol>\n",
        " \t<li>Enable built-in sensing to build a weather station that measures ambient temperature and humidity</li>\n",
        " \t<li>Build a system that detects discrepancies in electrical readings to identify electricity theft</li>\n",
        " \t<li>Use IoT to build a Servo that is controlled by motion detection readings</li>\n",
        " \t<li>Build a smart control switch that operates devices based on external stimuli. Use this for home automation.</li>\n",
        " \t<li>Build a music playing application that enables music for each room in your house</li>\n",
        " \t<li>Implement biometrics on IoT-connected devices</li>\n",
        "</ol>\n",
        "<h2>Arduino IoT Ideas</h2>\n",
        "There are a number of new IoT device ideas that deploy Arduino as a microcontroller. These include:\n",
        "<ol>\n",
        " \t<li>Integrate Arduino with Android to build a remote-control RGB LED device.</li>\n",
        " \t<li>Connect PIR sensors across the IoT to implement a smart building.</li>\n",
        " \t<li>Build a temperature and sunlight sensor system to remotely monitor and control the conditions of your garden.</li>\n",
        " \t<li>Deploy Arduino and IoT to automate your neighborhood streetlights.</li>\n",
        " \t<li>Build a smart irrigation system based on IoT-connected temperature and moisture sensors built-in to your agricultural plants.</li>\n",
        "</ol>\n",
        "[caption id=\"attachment_3807\" align=\"aligncenter\" width=\"300\"]<a href=\"bit.ly/LPlNDJj\"><img class=\"wp-image-3807 size-medium\" src=\"http://www.data-mania.com/blog/wp-content/uploads/2017/12/IMG_3058-300x295.jpg\" alt=\"\" width=\"300\" height=\"295\" /></a> An IoT Chatbot Tree at the Ericsson Studio[/caption]\n",
        "<h2>Wireless (GSM) IoT Ideas</h2>\n",
        "Several new IoT device ideas are developed around the GSM wireless network. Those are:\n",
        "<ol>\n",
        " \t<li>Monitor soil moisture to automate agricultural irrigation cycles.</li>\n",
        " \t<li>Automate and control the conditions of a greenhouse.</li>\n",
        " \t<li>Enable bio-metrics to build a smart security system for your home or office building</li>\n",
        " \t<li>Build an autonomously operating fitness application that automatically makes recommendations based on motion detection and heart rate sensors that are embedded on wearable fitness trackers.</li>\n",
        " \t<li>Build a healthcare monitoring system that tracks, informs, and automatically alerts healthcare providers based on sensor readings that describe a patients vital statistics (like temperature, pulse, blood pressure, etc).</li>\n",
        "</ol>\n",
        "<h2>IoT Automation Ideas</h2>\n",
        "Almost all new IoT device ideas offer automation benefits, but to outline a few more ideas:\n",
        "<ol>\n",
        " \t<li>Build an IoT device that automatically locates and reports the closest nearby parking spot.</li>\n",
        " \t<li>Build a motion detection system that automatically issues emails or sms messages to alert home owners of a likely home invasion.</li>\n",
        " \t<li>Use temperature sensors connected across the IoT to automatically alert you if your home windows or doors have been left open.</li>\n",
        " \t<li>Use bio-metric sensors to build a smart system that automate security for your home or office building</li>\n",
        "</ol>\n",
        "To learn more about IoT and what’s happening on the leading edge, be sure to pop over to Ericsson’s Studio Tour recap and <span style=\"text-decoration: underline;\"><strong><a href=\"http://bit.ly/LPlNDJj\">watch these videos</a></strong></span>.\n",
        "\n",
        "<em>(I captured some of this content on behalf of DevMode Strategies during an invite-only tour of the Ericsson Studio in Kista. Rest assure, the text and opinions are my own</em>)\n",
        "<p class='description'>...</p>\n",
        "'''\n",
        "our_soup_object = BeautifulSoup(our_html_document, 'html.parser')"
      ],
      "metadata": {
        "id": "891WFEuM87Pt"
      },
      "execution_count": null,
      "outputs": []
    },
    {
      "cell_type": "code",
      "source": [
        "our_soup_object.head"
      ],
      "metadata": {
        "colab": {
          "base_uri": "https://localhost:8080/"
        },
        "id": "K7VkvHi29PyA",
        "outputId": "6caf035c-12ea-4af9-9d88-1a78ab45e11e"
      },
      "execution_count": null,
      "outputs": [
        {
          "output_type": "execute_result",
          "data": {
            "text/plain": [
              "<head><title>IoT Articles</title></head>"
            ]
          },
          "metadata": {},
          "execution_count": 22
        }
      ]
    },
    {
      "cell_type": "code",
      "source": [
        "our_soup_object.title"
      ],
      "metadata": {
        "colab": {
          "base_uri": "https://localhost:8080/"
        },
        "id": "4PCPSsj09SnY",
        "outputId": "ed11f152-6283-4d2d-8539-9919c39b254f"
      },
      "execution_count": null,
      "outputs": [
        {
          "output_type": "execute_result",
          "data": {
            "text/plain": [
              "<title>IoT Articles</title>"
            ]
          },
          "metadata": {},
          "execution_count": 23
        }
      ]
    },
    {
      "cell_type": "code",
      "source": [
        "our_soup_object.body.b"
      ],
      "metadata": {
        "colab": {
          "base_uri": "https://localhost:8080/"
        },
        "id": "htb0sPXU9V4P",
        "outputId": "b70d77e7-602d-4dff-e8d8-ee9481a770ad"
      },
      "execution_count": null,
      "outputs": [
        {
          "output_type": "execute_result",
          "data": {
            "text/plain": [
              "<b>2018 Trends: Best New IoT Device Ideas for Data Scientists and Engineers</b>"
            ]
          },
          "metadata": {},
          "execution_count": 24
        }
      ]
    },
    {
      "cell_type": "code",
      "source": [
        "our_soup_object.body"
      ],
      "metadata": {
        "colab": {
          "base_uri": "https://localhost:8080/"
        },
        "id": "9CkfmVXt9kHU",
        "outputId": "78bffc32-7a1f-40c4-8f55-85e31a422e7b"
      },
      "execution_count": null,
      "outputs": [
        {
          "output_type": "execute_result",
          "data": {
            "text/plain": [
              "<body>\n",
              "<p class=\"title\"><b>2018 Trends: Best New IoT Device Ideas for Data Scientists and Engineers</b></p>\n",
              "<p class=\"description\">It’s almost 2018 and IoT is on the cusp of an explosive expansion. In this article, I offer you a listing of new IoT device ideas that you can use...\n",
              "<br/>\n",
              "<br/>\n",
              "It’s almost 2018 and IoT is on the cusp of an explosive expansion. In this article, I offer you a listing of new IoT device ideas that you can use to get practice in designing your first IoT applications.\n",
              "<h1>Looking Back at My Coolest IoT Find in 2017</h1>\n",
              "Before going into detail about best new IoT device ideas, here’s the backstory. <span style=\"text-decoration: underline;\"><strong><a href=\"http://bit.ly/LPlNDJj\">Last month Ericsson Digital invited me</a></strong></span> to tour the Ericsson Studio in Kista, Sweden. Up until that visit, <a href=\"http://www.data-mania.com/blog/m2m-vs-iot/\">IoT</a> had been largely theoretical to me. Of course, I know the usual mumbo-jumbo about wearables and IoT-connected fitness trackers. That stuff is all well and good, but it’s somewhat old hat – plus I am not sure we are really benefiting so much from those, so I’m not that impressed.\n",
              "\n",
              "It wasn’t until I got to the Ericsson Studio that I became extremely impressed by how far IoT has really come. Relying on the promise of the 5g network expansion, IoT-powered smart devices are on the cusp of an explosive growth in adoption. It was Ericsson’s Smart Car that sent me reeling:<a href=\"bit.ly/LPlNDJj\"><img alt=\"Get your new iot device ideas here\" class=\"aligncenter size-full wp-image-3802\" height=\"683\" src=\"http://www.data-mania.com/blog/wp-content/uploads/2017/12/new-IoT-device-ideas.jpg\" width=\"1024\"/></a>\n",
              "\n",
              "This car is connected to Ericsson’s Connected Vehicle Cloud, an IoT platform that manages services for the Smart Cars to which it’s connected. The Volvo pictured above acts as a drop-off location for groceries that have been ordered by its owner.\n",
              "\n",
              "To understand how it works, imagine you’re pulling your normal 9-to-5 and you know you need to grab some groceries on your way home. Well, since you’re smart you’ve used Ericsson IoT platform to connect your car to the local grocery delivery service (<a href=\"http://mat.se/\">Mat.se</a>), so all you need to do is open the Mat.se app and make your usual order. Mat.se automatically handles the payment, grocery selection, delivery, and delivery scheduling. Since your car is IoT-enabled, Mat.se issues its trusted delivery agent a 1-time token to use for opening your car in order to place your groceries in your car for you at 4:40 pm (just before you get off from work).\n",
              "\n",
              "To watch some of the amazing IoT device demos I witnessed at Ericsson Studio, make sure to go <span style=\"text-decoration: underline;\"><strong><a href=\"http://bit.ly/LPlNDJj\">watch the videos on this page</a></strong></span>.\n",
              "<h1>Future Trends for IoT in 2018</h1>\n",
              "New IoT device ideas won’t do you much good unless you at least know the basic technology trends that are set to impact IoT over the next year(s). These include:\n",
              "<ol>\n",
              "<li><strong>Big Data</strong> &amp; Data Engineering: Sensors that are embedded within IoT devices spin off machine-generated data like it’s going out of style. For IoT to function, the platform must be solidly engineered to handle big data. Be assured, that requires some serious data engineering.</li>\n",
              "<li><strong>Machine Learning</strong> Data Science: While a lot of IoT devices are still operated according to rules-based decision criteria, the age of artificial intelligence is upon us. IoT will increasingly depend on machine learning algorithms to control device operations so that devices are able to autonomously respond to a complex set of overlapping stimuli.</li>\n",
              "<li><strong>Blockchain</strong>-Enabled Security: Above all else, IoT networks must be secure. Blockchain technology is primed to meet the security demands that come along with building and expanding the IoT.</li>\n",
              "</ol>\n",
              "<h1>Best New IoT Device Ideas</h1>\n",
              "This listing of new IoT device ideas has been sub-divided according to the main technology upon which the IoT devices are built. Below I’m providing a list of new IoT device ideas, but for detailed instructions on how to build these IoT applications, I recommend the <a href=\"https://click.linksynergy.com/deeplink?id=*JDLXjeE*wk&amp;mid=39197&amp;murl=https%3A%2F%2Fwww.udemy.com%2Ftopic%2Finternet-of-things%2F%3Fsort%3Dhighest-rated\">IoT courses on Udemy</a> (ß Please note: if you purchase a Udemy course through this link, I may receive a small commission), or courses that are available at <a href=\"http://www.skyfilabs.com/iot-online-courses\">SkyFi</a> and <a href=\"https://www.coursera.org/specializations/iot\">Coursera</a>.\n",
              "<h2>Raspberry Pi IoT Ideas</h2>\n",
              "Using Raspberry Pi as open-source hardware, you can build IoT applications that offer any one of the following benefits:\n",
              "<ol>\n",
              "<li>Enable built-in sensing to build a weather station that measures ambient temperature and humidity</li>\n",
              "<li>Build a system that detects discrepancies in electrical readings to identify electricity theft</li>\n",
              "<li>Use IoT to build a Servo that is controlled by motion detection readings</li>\n",
              "<li>Build a smart control switch that operates devices based on external stimuli. Use this for home automation.</li>\n",
              "<li>Build a music playing application that enables music for each room in your house</li>\n",
              "<li>Implement biometrics on IoT-connected devices</li>\n",
              "</ol>\n",
              "<h2>Arduino IoT Ideas</h2>\n",
              "There are a number of new IoT device ideas that deploy Arduino as a microcontroller. These include:\n",
              "<ol>\n",
              "<li>Integrate Arduino with Android to build a remote-control RGB LED device.</li>\n",
              "<li>Connect PIR sensors across the IoT to implement a smart building.</li>\n",
              "<li>Build a temperature and sunlight sensor system to remotely monitor and control the conditions of your garden.</li>\n",
              "<li>Deploy Arduino and IoT to automate your neighborhood streetlights.</li>\n",
              "<li>Build a smart irrigation system based on IoT-connected temperature and moisture sensors built-in to your agricultural plants.</li>\n",
              "</ol>\n",
              "[caption id=\"attachment_3807\" align=\"aligncenter\" width=\"300\"]<a href=\"bit.ly/LPlNDJj\"><img alt=\"\" class=\"wp-image-3807 size-medium\" height=\"295\" src=\"http://www.data-mania.com/blog/wp-content/uploads/2017/12/IMG_3058-300x295.jpg\" width=\"300\"/></a> An IoT Chatbot Tree at the Ericsson Studio[/caption]\n",
              "<h2>Wireless (GSM) IoT Ideas</h2>\n",
              "Several new IoT device ideas are developed around the GSM wireless network. Those are:\n",
              "<ol>\n",
              "<li>Monitor soil moisture to automate agricultural irrigation cycles.</li>\n",
              "<li>Automate and control the conditions of a greenhouse.</li>\n",
              "<li>Enable bio-metrics to build a smart security system for your home or office building</li>\n",
              "<li>Build an autonomously operating fitness application that automatically makes recommendations based on motion detection and heart rate sensors that are embedded on wearable fitness trackers.</li>\n",
              "<li>Build a healthcare monitoring system that tracks, informs, and automatically alerts healthcare providers based on sensor readings that describe a patients vital statistics (like temperature, pulse, blood pressure, etc).</li>\n",
              "</ol>\n",
              "<h2>IoT Automation Ideas</h2>\n",
              "Almost all new IoT device ideas offer automation benefits, but to outline a few more ideas:\n",
              "<ol>\n",
              "<li>Build an IoT device that automatically locates and reports the closest nearby parking spot.</li>\n",
              "<li>Build a motion detection system that automatically issues emails or sms messages to alert home owners of a likely home invasion.</li>\n",
              "<li>Use temperature sensors connected across the IoT to automatically alert you if your home windows or doors have been left open.</li>\n",
              "<li>Use bio-metric sensors to build a smart system that automate security for your home or office building</li>\n",
              "</ol>\n",
              "To learn more about IoT and what’s happening on the leading edge, be sure to pop over to Ericsson’s Studio Tour recap and <span style=\"text-decoration: underline;\"><strong><a href=\"http://bit.ly/LPlNDJj\">watch these videos</a></strong></span>.\n",
              "\n",
              "<em>(I captured some of this content on behalf of DevMode Strategies during an invite-only tour of the Ericsson Studio in Kista. Rest assure, the text and opinions are my own</em>)\n",
              "<p class=\"description\">...</p>\n",
              "</p></body>"
            ]
          },
          "metadata": {},
          "execution_count": 25
        }
      ]
    },
    {
      "cell_type": "code",
      "source": [
        "our_soup_object.li"
      ],
      "metadata": {
        "colab": {
          "base_uri": "https://localhost:8080/"
        },
        "id": "RdDIwMc-9qjn",
        "outputId": "08a499e9-05a5-4ee7-eb85-a392b21ec19b"
      },
      "execution_count": null,
      "outputs": [
        {
          "output_type": "execute_result",
          "data": {
            "text/plain": [
              "<li><strong>Big Data</strong> &amp; Data Engineering: Sensors that are embedded within IoT devices spin off machine-generated data like it’s going out of style. For IoT to function, the platform must be solidly engineered to handle big data. Be assured, that requires some serious data engineering.</li>"
            ]
          },
          "metadata": {},
          "execution_count": 26
        }
      ]
    },
    {
      "cell_type": "code",
      "source": [
        "our_soup_object.a"
      ],
      "metadata": {
        "id": "ch9ZCdH79w1O",
        "outputId": "37978406-240e-4554-d9a4-d14508d15f4c",
        "colab": {
          "base_uri": "https://localhost:8080/"
        }
      },
      "execution_count": null,
      "outputs": [
        {
          "output_type": "execute_result",
          "data": {
            "text/plain": [
              "<a href=\"http://bit.ly/LPlNDJj\">Last month Ericsson Digital invited me</a>"
            ]
          },
          "metadata": {},
          "execution_count": 27
        }
      ]
    },
    {
      "cell_type": "code",
      "source": [],
      "metadata": {
        "id": "045n7zt790Ve"
      },
      "execution_count": null,
      "outputs": []
    }
  ]
}