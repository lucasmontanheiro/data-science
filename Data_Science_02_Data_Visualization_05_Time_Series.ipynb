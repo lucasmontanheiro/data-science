{
  "nbformat": 4,
  "nbformat_minor": 0,
  "metadata": {
    "colab": {
      "name": "Data_Science_02_Data_Visualization_05_Time_Series.ipynb",
      "provenance": [],
      "authorship_tag": "ABX9TyOJPDjLV18fdnnqLDgL3Zo7",
      "include_colab_link": true
    },
    "kernelspec": {
      "name": "python3",
      "display_name": "Python 3"
    },
    "language_info": {
      "name": "python"
    }
  },
  "cells": [
    {
      "cell_type": "markdown",
      "metadata": {
        "id": "view-in-github",
        "colab_type": "text"
      },
      "source": [
        "<a href=\"https://colab.research.google.com/github/lucasmontanheiro/colab/blob/main/Theory/Data_Science_02_Data_Visualization_05_Time_Series.ipynb\" target=\"_parent\"><img src=\"https://colab.research.google.com/assets/colab-badge.svg\" alt=\"Open In Colab\"/></a>"
      ]
    },
    {
      "cell_type": "markdown",
      "source": [
        "#Practical Data Visualization\n",
        "\n",
        "###Segment 5 - Time Series\n",
        "\n",
        "A time series is a measure of unit change over time for any variable under observation.\n",
        "\n",
        "The built-in Python datetime module supplies classes for manipulating dates and times in both simple and complex ways. "
      ],
      "metadata": {
        "id": "jSIYDsMA1YBW"
      }
    },
    {
      "cell_type": "code",
      "execution_count": null,
      "metadata": {
        "id": "e2uOUqX_1WKY"
      },
      "outputs": [],
      "source": [
        "import numpy as np\n",
        "from numpy.random import randn\n",
        "import pandas as pd\n",
        "from pandas import Series, DataFrame\n",
        "\n",
        "import matplotlib.pyplot as plt\n",
        "from pylab import rcParams"
      ]
    },
    {
      "cell_type": "code",
      "source": [
        "%matplotlib inline\n",
        "rcParams[\"figure.figsize\"] = 5,4"
      ],
      "metadata": {
        "id": "QAwl0DFnSLqj"
      },
      "execution_count": null,
      "outputs": []
    },
    {
      "cell_type": "markdown",
      "source": [
        "**The simplest time series plot**"
      ],
      "metadata": {
        "id": "zdNAxjKOSTT_"
      }
    },
    {
      "cell_type": "code",
      "source": [
        "address = \"https://raw.githubusercontent.com/lucasmontanheiro/db/main/exercises/superstore-sales.csv\"\n",
        "\n",
        "df = pd.read_csv(address, index_col=\"Order Date\", encoding=\"utf-8\", parse_dates=True)\n",
        "df.head()"
      ],
      "metadata": {
        "colab": {
          "base_uri": "https://localhost:8080/",
          "height": 490
        },
        "id": "L2y0jEc9SSLQ",
        "outputId": "e6742a57-f24d-495f-e8da-38d7c438053f"
      },
      "execution_count": null,
      "outputs": [
        {
          "output_type": "execute_result",
          "data": {
            "text/plain": [
              "            Row ID  Order ID Order Priority  Order Quantity       Sales  \\\n",
              "Order Date                                                                \n",
              "2010-10-13       1         3            Low               6    261.5400   \n",
              "2012-10-01      49       293           High              49  10123.0200   \n",
              "2012-10-01      50       293           High              27    244.5700   \n",
              "2011-07-10      80       483           High              30   4965.7595   \n",
              "2010-08-28      85       515  Not Specified              19    394.2700   \n",
              "\n",
              "            Discount       Ship Mode   Profit  Unit Price  Shipping Cost  \\\n",
              "Order Date                                                                 \n",
              "2010-10-13      0.04     Regular Air  -213.25       38.94          35.00   \n",
              "2012-10-01      0.07  Delivery Truck   457.81      208.16          68.02   \n",
              "2012-10-01      0.01     Regular Air    46.71        8.69           2.99   \n",
              "2011-07-10      0.08     Regular Air  1198.97      195.99           3.99   \n",
              "2010-08-28      0.08     Regular Air    30.94       21.78           5.94   \n",
              "\n",
              "                 Customer Name Province   Region Customer Segment  \\\n",
              "Order Date                                                          \n",
              "2010-10-13  Muhammed MacIntyre  Nunavut  Nunavut   Small Business   \n",
              "2012-10-01        Barry French  Nunavut  Nunavut         Consumer   \n",
              "2012-10-01        Barry French  Nunavut  Nunavut         Consumer   \n",
              "2011-07-10       Clay Rozendal  Nunavut  Nunavut        Corporate   \n",
              "2010-08-28      Carlos Soltero  Nunavut  Nunavut         Consumer   \n",
              "\n",
              "           Product Category            Product Sub-Category  \\\n",
              "Order Date                                                    \n",
              "2010-10-13  Office Supplies          Storage & Organization   \n",
              "2012-10-01  Office Supplies                      Appliances   \n",
              "2012-10-01  Office Supplies  Binders and Binder Accessories   \n",
              "2011-07-10       Technology    Telephones and Communication   \n",
              "2010-08-28  Office Supplies                      Appliances   \n",
              "\n",
              "                                                 Product Name  \\\n",
              "Order Date                                                      \n",
              "2010-10-13   Eldon Base for stackable storage shelf, platinum   \n",
              "2012-10-01  1.7 Cubic Foot Compact \"Cube\" Office Refrigera...   \n",
              "2012-10-01   Cardinal Slant-D® Ring Binder, Heavy Gauge Vinyl   \n",
              "2011-07-10                                               R380   \n",
              "2010-08-28                           Holmes HEPA Air Purifier   \n",
              "\n",
              "           Product Container  Product Base Margin   Ship Date  \n",
              "Order Date                                                     \n",
              "2010-10-13         Large Box                 0.80  10/20/2010  \n",
              "2012-10-01        Jumbo Drum                 0.58   10/2/2012  \n",
              "2012-10-01         Small Box                 0.39   10/3/2012  \n",
              "2011-07-10         Small Box                 0.58   7/12/2011  \n",
              "2010-08-28        Medium Box                 0.50   8/30/2010  "
            ],
            "text/html": [
              "\n",
              "  <div id=\"df-e1ae0d83-883b-4fa4-89fa-ac9ec5185a79\">\n",
              "    <div class=\"colab-df-container\">\n",
              "      <div>\n",
              "<style scoped>\n",
              "    .dataframe tbody tr th:only-of-type {\n",
              "        vertical-align: middle;\n",
              "    }\n",
              "\n",
              "    .dataframe tbody tr th {\n",
              "        vertical-align: top;\n",
              "    }\n",
              "\n",
              "    .dataframe thead th {\n",
              "        text-align: right;\n",
              "    }\n",
              "</style>\n",
              "<table border=\"1\" class=\"dataframe\">\n",
              "  <thead>\n",
              "    <tr style=\"text-align: right;\">\n",
              "      <th></th>\n",
              "      <th>Row ID</th>\n",
              "      <th>Order ID</th>\n",
              "      <th>Order Priority</th>\n",
              "      <th>Order Quantity</th>\n",
              "      <th>Sales</th>\n",
              "      <th>Discount</th>\n",
              "      <th>Ship Mode</th>\n",
              "      <th>Profit</th>\n",
              "      <th>Unit Price</th>\n",
              "      <th>Shipping Cost</th>\n",
              "      <th>Customer Name</th>\n",
              "      <th>Province</th>\n",
              "      <th>Region</th>\n",
              "      <th>Customer Segment</th>\n",
              "      <th>Product Category</th>\n",
              "      <th>Product Sub-Category</th>\n",
              "      <th>Product Name</th>\n",
              "      <th>Product Container</th>\n",
              "      <th>Product Base Margin</th>\n",
              "      <th>Ship Date</th>\n",
              "    </tr>\n",
              "    <tr>\n",
              "      <th>Order Date</th>\n",
              "      <th></th>\n",
              "      <th></th>\n",
              "      <th></th>\n",
              "      <th></th>\n",
              "      <th></th>\n",
              "      <th></th>\n",
              "      <th></th>\n",
              "      <th></th>\n",
              "      <th></th>\n",
              "      <th></th>\n",
              "      <th></th>\n",
              "      <th></th>\n",
              "      <th></th>\n",
              "      <th></th>\n",
              "      <th></th>\n",
              "      <th></th>\n",
              "      <th></th>\n",
              "      <th></th>\n",
              "      <th></th>\n",
              "      <th></th>\n",
              "    </tr>\n",
              "  </thead>\n",
              "  <tbody>\n",
              "    <tr>\n",
              "      <th>2010-10-13</th>\n",
              "      <td>1</td>\n",
              "      <td>3</td>\n",
              "      <td>Low</td>\n",
              "      <td>6</td>\n",
              "      <td>261.5400</td>\n",
              "      <td>0.04</td>\n",
              "      <td>Regular Air</td>\n",
              "      <td>-213.25</td>\n",
              "      <td>38.94</td>\n",
              "      <td>35.00</td>\n",
              "      <td>Muhammed MacIntyre</td>\n",
              "      <td>Nunavut</td>\n",
              "      <td>Nunavut</td>\n",
              "      <td>Small Business</td>\n",
              "      <td>Office Supplies</td>\n",
              "      <td>Storage &amp; Organization</td>\n",
              "      <td>Eldon Base for stackable storage shelf, platinum</td>\n",
              "      <td>Large Box</td>\n",
              "      <td>0.80</td>\n",
              "      <td>10/20/2010</td>\n",
              "    </tr>\n",
              "    <tr>\n",
              "      <th>2012-10-01</th>\n",
              "      <td>49</td>\n",
              "      <td>293</td>\n",
              "      <td>High</td>\n",
              "      <td>49</td>\n",
              "      <td>10123.0200</td>\n",
              "      <td>0.07</td>\n",
              "      <td>Delivery Truck</td>\n",
              "      <td>457.81</td>\n",
              "      <td>208.16</td>\n",
              "      <td>68.02</td>\n",
              "      <td>Barry French</td>\n",
              "      <td>Nunavut</td>\n",
              "      <td>Nunavut</td>\n",
              "      <td>Consumer</td>\n",
              "      <td>Office Supplies</td>\n",
              "      <td>Appliances</td>\n",
              "      <td>1.7 Cubic Foot Compact \"Cube\" Office Refrigera...</td>\n",
              "      <td>Jumbo Drum</td>\n",
              "      <td>0.58</td>\n",
              "      <td>10/2/2012</td>\n",
              "    </tr>\n",
              "    <tr>\n",
              "      <th>2012-10-01</th>\n",
              "      <td>50</td>\n",
              "      <td>293</td>\n",
              "      <td>High</td>\n",
              "      <td>27</td>\n",
              "      <td>244.5700</td>\n",
              "      <td>0.01</td>\n",
              "      <td>Regular Air</td>\n",
              "      <td>46.71</td>\n",
              "      <td>8.69</td>\n",
              "      <td>2.99</td>\n",
              "      <td>Barry French</td>\n",
              "      <td>Nunavut</td>\n",
              "      <td>Nunavut</td>\n",
              "      <td>Consumer</td>\n",
              "      <td>Office Supplies</td>\n",
              "      <td>Binders and Binder Accessories</td>\n",
              "      <td>Cardinal Slant-D® Ring Binder, Heavy Gauge Vinyl</td>\n",
              "      <td>Small Box</td>\n",
              "      <td>0.39</td>\n",
              "      <td>10/3/2012</td>\n",
              "    </tr>\n",
              "    <tr>\n",
              "      <th>2011-07-10</th>\n",
              "      <td>80</td>\n",
              "      <td>483</td>\n",
              "      <td>High</td>\n",
              "      <td>30</td>\n",
              "      <td>4965.7595</td>\n",
              "      <td>0.08</td>\n",
              "      <td>Regular Air</td>\n",
              "      <td>1198.97</td>\n",
              "      <td>195.99</td>\n",
              "      <td>3.99</td>\n",
              "      <td>Clay Rozendal</td>\n",
              "      <td>Nunavut</td>\n",
              "      <td>Nunavut</td>\n",
              "      <td>Corporate</td>\n",
              "      <td>Technology</td>\n",
              "      <td>Telephones and Communication</td>\n",
              "      <td>R380</td>\n",
              "      <td>Small Box</td>\n",
              "      <td>0.58</td>\n",
              "      <td>7/12/2011</td>\n",
              "    </tr>\n",
              "    <tr>\n",
              "      <th>2010-08-28</th>\n",
              "      <td>85</td>\n",
              "      <td>515</td>\n",
              "      <td>Not Specified</td>\n",
              "      <td>19</td>\n",
              "      <td>394.2700</td>\n",
              "      <td>0.08</td>\n",
              "      <td>Regular Air</td>\n",
              "      <td>30.94</td>\n",
              "      <td>21.78</td>\n",
              "      <td>5.94</td>\n",
              "      <td>Carlos Soltero</td>\n",
              "      <td>Nunavut</td>\n",
              "      <td>Nunavut</td>\n",
              "      <td>Consumer</td>\n",
              "      <td>Office Supplies</td>\n",
              "      <td>Appliances</td>\n",
              "      <td>Holmes HEPA Air Purifier</td>\n",
              "      <td>Medium Box</td>\n",
              "      <td>0.50</td>\n",
              "      <td>8/30/2010</td>\n",
              "    </tr>\n",
              "  </tbody>\n",
              "</table>\n",
              "</div>\n",
              "      <button class=\"colab-df-convert\" onclick=\"convertToInteractive('df-e1ae0d83-883b-4fa4-89fa-ac9ec5185a79')\"\n",
              "              title=\"Convert this dataframe to an interactive table.\"\n",
              "              style=\"display:none;\">\n",
              "        \n",
              "  <svg xmlns=\"http://www.w3.org/2000/svg\" height=\"24px\"viewBox=\"0 0 24 24\"\n",
              "       width=\"24px\">\n",
              "    <path d=\"M0 0h24v24H0V0z\" fill=\"none\"/>\n",
              "    <path d=\"M18.56 5.44l.94 2.06.94-2.06 2.06-.94-2.06-.94-.94-2.06-.94 2.06-2.06.94zm-11 1L8.5 8.5l.94-2.06 2.06-.94-2.06-.94L8.5 2.5l-.94 2.06-2.06.94zm10 10l.94 2.06.94-2.06 2.06-.94-2.06-.94-.94-2.06-.94 2.06-2.06.94z\"/><path d=\"M17.41 7.96l-1.37-1.37c-.4-.4-.92-.59-1.43-.59-.52 0-1.04.2-1.43.59L10.3 9.45l-7.72 7.72c-.78.78-.78 2.05 0 2.83L4 21.41c.39.39.9.59 1.41.59.51 0 1.02-.2 1.41-.59l7.78-7.78 2.81-2.81c.8-.78.8-2.07 0-2.86zM5.41 20L4 18.59l7.72-7.72 1.47 1.35L5.41 20z\"/>\n",
              "  </svg>\n",
              "      </button>\n",
              "      \n",
              "  <style>\n",
              "    .colab-df-container {\n",
              "      display:flex;\n",
              "      flex-wrap:wrap;\n",
              "      gap: 12px;\n",
              "    }\n",
              "\n",
              "    .colab-df-convert {\n",
              "      background-color: #E8F0FE;\n",
              "      border: none;\n",
              "      border-radius: 50%;\n",
              "      cursor: pointer;\n",
              "      display: none;\n",
              "      fill: #1967D2;\n",
              "      height: 32px;\n",
              "      padding: 0 0 0 0;\n",
              "      width: 32px;\n",
              "    }\n",
              "\n",
              "    .colab-df-convert:hover {\n",
              "      background-color: #E2EBFA;\n",
              "      box-shadow: 0px 1px 2px rgba(60, 64, 67, 0.3), 0px 1px 3px 1px rgba(60, 64, 67, 0.15);\n",
              "      fill: #174EA6;\n",
              "    }\n",
              "\n",
              "    [theme=dark] .colab-df-convert {\n",
              "      background-color: #3B4455;\n",
              "      fill: #D2E3FC;\n",
              "    }\n",
              "\n",
              "    [theme=dark] .colab-df-convert:hover {\n",
              "      background-color: #434B5C;\n",
              "      box-shadow: 0px 1px 3px 1px rgba(0, 0, 0, 0.15);\n",
              "      filter: drop-shadow(0px 1px 2px rgba(0, 0, 0, 0.3));\n",
              "      fill: #FFFFFF;\n",
              "    }\n",
              "  </style>\n",
              "\n",
              "      <script>\n",
              "        const buttonEl =\n",
              "          document.querySelector('#df-e1ae0d83-883b-4fa4-89fa-ac9ec5185a79 button.colab-df-convert');\n",
              "        buttonEl.style.display =\n",
              "          google.colab.kernel.accessAllowed ? 'block' : 'none';\n",
              "\n",
              "        async function convertToInteractive(key) {\n",
              "          const element = document.querySelector('#df-e1ae0d83-883b-4fa4-89fa-ac9ec5185a79');\n",
              "          const dataTable =\n",
              "            await google.colab.kernel.invokeFunction('convertToInteractive',\n",
              "                                                     [key], {});\n",
              "          if (!dataTable) return;\n",
              "\n",
              "          const docLinkHtml = 'Like what you see? Visit the ' +\n",
              "            '<a target=\"_blank\" href=https://colab.research.google.com/notebooks/data_table.ipynb>data table notebook</a>'\n",
              "            + ' to learn more about interactive tables.';\n",
              "          element.innerHTML = '';\n",
              "          dataTable['output_type'] = 'display_data';\n",
              "          await google.colab.output.renderOutput(dataTable, element);\n",
              "          const docLink = document.createElement('div');\n",
              "          docLink.innerHTML = docLinkHtml;\n",
              "          element.appendChild(docLink);\n",
              "        }\n",
              "      </script>\n",
              "    </div>\n",
              "  </div>\n",
              "  "
            ]
          },
          "metadata": {},
          "execution_count": 10
        }
      ]
    },
    {
      "cell_type": "code",
      "source": [
        "df[\"Order Quantity\"].plot()"
      ],
      "metadata": {
        "colab": {
          "base_uri": "https://localhost:8080/",
          "height": 294
        },
        "id": "LIT6uLGRS35i",
        "outputId": "f70a7728-e37c-45be-8f3d-7e3a9c33ac33"
      },
      "execution_count": null,
      "outputs": [
        {
          "output_type": "execute_result",
          "data": {
            "text/plain": [
              "<matplotlib.axes._subplots.AxesSubplot at 0x7facd7180f50>"
            ]
          },
          "metadata": {},
          "execution_count": 11
        },
        {
          "output_type": "display_data",
          "data": {
            "text/plain": [
              "<Figure size 360x288 with 1 Axes>"
            ],
            "image/png": "[encoded data removed]"
          },
          "metadata": {
            "needs_background": "light"
          }
        }
      ]
    },
    {
      "cell_type": "code",
      "source": [
        "df2 = df.sample(n=100, random_state=25, axis=0)\n",
        "\n",
        "plt.xlabel(\"Order Date\")\n",
        "plt.ylabel(\"Order Quantity\")\n",
        "plt.title(\"Superstore Sales\")\n",
        "\n",
        "df2[\"Order Quantity\"].plot()"
      ],
      "metadata": {
        "colab": {
          "base_uri": "https://localhost:8080/",
          "height": 310
        },
        "id": "RragcoIbUDYW",
        "outputId": "55df2455-2fd3-4687-fb7d-ca08fe02a9c4"
      },
      "execution_count": null,
      "outputs": [
        {
          "output_type": "execute_result",
          "data": {
            "text/plain": [
              "<matplotlib.axes._subplots.AxesSubplot at 0x7facd64487d0>"
            ]
          },
          "metadata": {},
          "execution_count": 12
        },
        {
          "output_type": "display_data",
          "data": {
            "text/plain": [
              "<Figure size 360x288 with 1 Axes>"
            ],
            "image/png": "[encoded data removed]"
          },
          "metadata": {
            "needs_background": "light"
          }
        }
      ]
    },
    {
      "cell_type": "code",
      "source": [
        ""
      ],
      "metadata": {
        "id": "9oa-YMvnUhnp"
      },
      "execution_count": null,
      "outputs": []
    }
  ]
}