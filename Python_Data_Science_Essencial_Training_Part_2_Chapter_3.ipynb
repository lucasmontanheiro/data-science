{
  "nbformat": 4,
  "nbformat_minor": 0,
  "metadata": {
    "colab": {
      "provenance": []
    },
    "kernelspec": {
      "name": "python3",
      "display_name": "Python 3"
    },
    "language_info": {
      "name": "python"
    }
  },
  "cells": [
    {
      "cell_type": "markdown",
      "source": [
        "# Python for Data Science Essential Training Part 2\n",
        "\n",
        "## Chapter 3: Regression Models\n",
        "\n",
        "Linkedin Learning\n",
        "\n",
        "[Course](https://www.linkedin.com/learning/python-for-data-science-essential-training-part-2/linear-regression?autoplay=true&u=56685617)\n"
      ],
      "metadata": {
        "id": "wkQDMmP0tqrQ"
      }
    },
    {
      "cell_type": "code",
      "execution_count": null,
      "metadata": {
        "id": "N-pqy2zhtqAK"
      },
      "outputs": [],
      "source": [
        "import numpy as np\n",
        "import pandas as pd\n",
        "import matplotlib.pyplot as plt\n",
        "import sklearn\n",
        "\n",
        "from pylab import rcParams\n",
        "\n",
        "from sklearn.linear_model import LinearRegression\n",
        "from sklearn.preprocessing import scale"
      ]
    },
    {
      "cell_type": "code",
      "source": [
        "%matplotlib inline\n",
        "rcParams['figure.figsize'] = 10,8"
      ],
      "metadata": {
        "id": "a4KWnnUjuHSQ"
      },
      "execution_count": null,
      "outputs": []
    },
    {
      "cell_type": "code",
      "source": [],
      "metadata": {
        "id": "ng1WL2e9uVLH"
      },
      "execution_count": null,
      "outputs": []
    }
  ]
}