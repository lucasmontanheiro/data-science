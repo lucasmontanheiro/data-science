{
  "nbformat": 4,
  "nbformat_minor": 0,
  "metadata": {
    "colab": {
      "provenance": [],
      "toc_visible": true,
      "authorship_tag": "ABX9TyOcwSObmsUhGJXAhl8YEgVP",
      "include_colab_link": true
    },
    "kernelspec": {
      "name": "python3",
      "display_name": "Python 3"
    },
    "language_info": {
      "name": "python"
    }
  },
  "cells": [
    {
      "cell_type": "markdown",
      "metadata": {
        "id": "view-in-github",
        "colab_type": "text"
      },
      "source": [
        "<a href=\"https://colab.research.google.com/github/lucasmontanheiro/colab/blob/main/Theory/Data_Science_01_Data_Preparation_07_Memory_Optimization.ipynb\" target=\"_parent\"><img src=\"https://colab.research.google.com/assets/colab-badge.svg\" alt=\"Open In Colab\"/></a>"
      ]
    },
    {
      "cell_type": "markdown",
      "source": [
        "#Data Preparation\n",
        "\n",
        "###Memory Optimization & Efficiency\n",
        "\n",
        "https://www.youtube.com/watch?v=u4_c2LDi4b8"
      ],
      "metadata": {
        "id": "K-O9aX-_d1kM"
      }
    },
    {
      "cell_type": "code",
      "execution_count": 2,
      "metadata": {
        "id": "TVc8uSsSdv6w"
      },
      "outputs": [],
      "source": [
        "import pandas as pd\n",
        "import numpy as np"
      ]
    },
    {
      "cell_type": "code",
      "source": [
        "def get_dataset(size):\n",
        "  df = pd.DataFrame()\n",
        "  df[\"position\"] = np.random.choice([\"left\", \"middle\", \"middle\"], size)\n",
        "  df[\"age\"] = np.random.randint(1, 50, size)\n",
        "  df[\"team\"] = np.random.choice([\"red\", \"blue\", \"yellow\", \"green\"], size)\n",
        "  df[\"win\"] = np.random.choice([\"yes\", \"no\"], size)\n",
        "  df[\"prob\"] = np.random.uniform(0, 1, size)\n",
        "  return df"
      ],
      "metadata": {
        "id": "W3zUrTRTd-y-"
      },
      "execution_count": 3,
      "outputs": []
    },
    {
      "cell_type": "code",
      "source": [
        "df = get_dataset(1_000_000)\n",
        "df.info() # print memory usage"
      ],
      "metadata": {
        "colab": {
          "base_uri": "https://localhost:8080/"
        },
        "id": "3qUcnRAeepkX",
        "outputId": "82d6fe74-824c-4514-d531-5d2ad24b2c41"
      },
      "execution_count": 4,
      "outputs": [
        {
          "output_type": "stream",
          "name": "stdout",
          "text": [
            "<class 'pandas.core.frame.DataFrame'>\n",
            "RangeIndex: 1000000 entries, 0 to 999999\n",
            "Data columns (total 5 columns):\n",
            " #   Column    Non-Null Count    Dtype  \n",
            "---  ------    --------------    -----  \n",
            " 0   position  1000000 non-null  object \n",
            " 1   age       1000000 non-null  int64  \n",
            " 2   team      1000000 non-null  object \n",
            " 3   win       1000000 non-null  object \n",
            " 4   prob      1000000 non-null  float64\n",
            "dtypes: float64(1), int64(1), object(3)\n",
            "memory usage: 38.1+ MB\n"
          ]
        }
      ]
    },
    {
      "cell_type": "code",
      "source": [
        "%timeit df[\"age_rank\"] = df.groupby([\"team\",\"position\"])[\"age\"].rank()\n",
        "%timeit df[\"prob_rank\"] = df.groupby([\"team\",\"position\"])[\"prob\"].rank()\n",
        "%timeit df[\"win_prob_rank\"] = df.groupby([\"team\",\"position\",\"win\"])[\"prob\"].rank()"
      ],
      "metadata": {
        "colab": {
          "base_uri": "https://localhost:8080/"
        },
        "id": "2Eo9QNBvevkv",
        "outputId": "40ee5356-8d95-481e-f90a-7d7dae9d8785"
      },
      "execution_count": 5,
      "outputs": [
        {
          "output_type": "stream",
          "name": "stdout",
          "text": [
            "681 ms ± 215 ms per loop (mean ± std. dev. of 7 runs, 1 loop each)\n",
            "602 ms ± 13.5 ms per loop (mean ± std. dev. of 7 runs, 1 loop each)\n",
            "707 ms ± 9.62 ms per loop (mean ± std. dev. of 7 runs, 1 loop each)\n"
          ]
        }
      ]
    },
    {
      "cell_type": "markdown",
      "source": [
        "###Efficiency with Strings"
      ],
      "metadata": {
        "id": "FhDON27kgrg9"
      }
    },
    {
      "cell_type": "markdown",
      "source": [
        "From String(object) to Category datatype"
      ],
      "metadata": {
        "id": "3VsbBrzOhGLH"
      }
    },
    {
      "cell_type": "code",
      "source": [
        "df = get_dataset(1_000_000)\n",
        "df[\"position\"] = df[\"position\"].astype(\"category\")\n",
        "df[\"team\"] = df[\"team\"].astype(\"category\")\n",
        "df.info()"
      ],
      "metadata": {
        "colab": {
          "base_uri": "https://localhost:8080/"
        },
        "id": "tF7PMFFegb-2",
        "outputId": "add0f70a-d53d-4a02-d082-d74ae2a2c652"
      },
      "execution_count": 6,
      "outputs": [
        {
          "output_type": "stream",
          "name": "stdout",
          "text": [
            "<class 'pandas.core.frame.DataFrame'>\n",
            "RangeIndex: 1000000 entries, 0 to 999999\n",
            "Data columns (total 5 columns):\n",
            " #   Column    Non-Null Count    Dtype   \n",
            "---  ------    --------------    -----   \n",
            " 0   position  1000000 non-null  category\n",
            " 1   age       1000000 non-null  int64   \n",
            " 2   team      1000000 non-null  category\n",
            " 3   win       1000000 non-null  object  \n",
            " 4   prob      1000000 non-null  float64 \n",
            "dtypes: category(2), float64(1), int64(1), object(1)\n",
            "memory usage: 24.8+ MB\n"
          ]
        }
      ]
    },
    {
      "cell_type": "markdown",
      "source": [
        "###Efficiency with Integers\n",
        "\n",
        "From int64 to int 8 datatype\n",
        "\n",
        "Int Downcasting Value Range\n",
        "- Int 8 can store integers from -128 to 127\n",
        "- Int 16 can store integers from -32768 to 32767\n",
        "- Int 64 can store integers from "
      ],
      "metadata": {
        "id": "P25YASQMhKQf"
      }
    },
    {
      "cell_type": "code",
      "source": [
        "# Check max and min for the range of your data before downsizing it\n",
        "df[\"age\"] = df[\"age\"].astype(\"int8\")\n",
        "df.info()"
      ],
      "metadata": {
        "colab": {
          "base_uri": "https://localhost:8080/"
        },
        "id": "GvGZzFm-hY9k",
        "outputId": "a16cfd02-3251-4639-9ec6-c32e2bc642f2"
      },
      "execution_count": 8,
      "outputs": [
        {
          "output_type": "stream",
          "name": "stdout",
          "text": [
            "<class 'pandas.core.frame.DataFrame'>\n",
            "RangeIndex: 1000000 entries, 0 to 999999\n",
            "Data columns (total 5 columns):\n",
            " #   Column    Non-Null Count    Dtype   \n",
            "---  ------    --------------    -----   \n",
            " 0   position  1000000 non-null  category\n",
            " 1   age       1000000 non-null  int8    \n",
            " 2   team      1000000 non-null  category\n",
            " 3   win       1000000 non-null  object  \n",
            " 4   prob      1000000 non-null  float64 \n",
            "dtypes: category(2), float64(1), int8(1), object(1)\n",
            "memory usage: 18.1+ MB\n"
          ]
        }
      ]
    },
    {
      "cell_type": "markdown",
      "source": [
        "###Efficiency with Floats"
      ],
      "metadata": {
        "id": "5WUVvHy1xS4V"
      }
    },
    {
      "cell_type": "code",
      "source": [
        "df[\"prob\"] = df[\"prob\"].astype(\"float32\")\n",
        "df.info()"
      ],
      "metadata": {
        "colab": {
          "base_uri": "https://localhost:8080/"
        },
        "id": "Fc2J6J4xhTX5",
        "outputId": "77642f41-6a2e-4a22-8899-a2385209229f"
      },
      "execution_count": 10,
      "outputs": [
        {
          "output_type": "stream",
          "name": "stdout",
          "text": [
            "<class 'pandas.core.frame.DataFrame'>\n",
            "RangeIndex: 1000000 entries, 0 to 999999\n",
            "Data columns (total 5 columns):\n",
            " #   Column    Non-Null Count    Dtype   \n",
            "---  ------    --------------    -----   \n",
            " 0   position  1000000 non-null  category\n",
            " 1   age       1000000 non-null  int8    \n",
            " 2   team      1000000 non-null  category\n",
            " 3   win       1000000 non-null  object  \n",
            " 4   prob      1000000 non-null  float32 \n",
            "dtypes: category(2), float32(1), int8(1), object(1)\n",
            "memory usage: 14.3+ MB\n"
          ]
        }
      ]
    },
    {
      "cell_type": "markdown",
      "source": [
        "###Casting bool (true/false)"
      ],
      "metadata": {
        "id": "-z5ZdwW_xZx4"
      }
    },
    {
      "cell_type": "code",
      "source": [
        "# Mapping the values 'yes' and 'no' to True and False\n",
        "df[\"win\"] = df[\"win\"].map({\"yes\": True, \"no\": False})\n",
        "df.info()"
      ],
      "metadata": {
        "colab": {
          "base_uri": "https://localhost:8080/"
        },
        "id": "AZ0HtxPaxd1R",
        "outputId": "fc63a2bc-6e49-4742-9deb-4c856064fa53"
      },
      "execution_count": 12,
      "outputs": [
        {
          "output_type": "stream",
          "name": "stdout",
          "text": [
            "<class 'pandas.core.frame.DataFrame'>\n",
            "RangeIndex: 1000000 entries, 0 to 999999\n",
            "Data columns (total 5 columns):\n",
            " #   Column    Non-Null Count    Dtype   \n",
            "---  ------    --------------    -----   \n",
            " 0   position  1000000 non-null  category\n",
            " 1   age       1000000 non-null  int8    \n",
            " 2   team      1000000 non-null  category\n",
            " 3   win       1000000 non-null  bool    \n",
            " 4   prob      1000000 non-null  float32 \n",
            "dtypes: bool(1), category(2), float32(1), int8(1)\n",
            "memory usage: 7.6 MB\n"
          ]
        }
      ]
    }
  ]
}