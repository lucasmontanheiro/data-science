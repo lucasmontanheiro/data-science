{
  "nbformat": 4,
  "nbformat_minor": 0,
  "metadata": {
    "colab": {
      "name": "Data_Science_03_Basic_Math_Statistics_02_Multiplying_matrices_and_basic_linear_algebra.ipynb",
      "provenance": [],
      "authorship_tag": "ABX9TyNQLCK0cR7jOaO2zziJEibS",
      "include_colab_link": true
    },
    "kernelspec": {
      "name": "python3",
      "display_name": "Python 3"
    },
    "language_info": {
      "name": "python"
    }
  },
  "cells": [
    {
      "cell_type": "markdown",
      "metadata": {
        "id": "view-in-github",
        "colab_type": "text"
      },
      "source": [
        "<a href=\"https://colab.research.google.com/github/lucasmontanheiro/colab/blob/main/Theory/Data_Science_03_Basic_Math_Statistics_02_Multiplying_matrices_and_basic_linear_algebra.ipynb\" target=\"_parent\"><img src=\"https://colab.research.google.com/assets/colab-badge.svg\" alt=\"Open In Colab\"/></a>"
      ]
    },
    {
      "cell_type": "markdown",
      "source": [
        "#Basic Math and Statistics\n",
        "\n",
        "###Segment 2 - Multiplying matrices and basic linear algebra"
      ],
      "metadata": {
        "id": "l_6I9COrxCt3"
      }
    },
    {
      "cell_type": "code",
      "execution_count": 2,
      "metadata": {
        "id": "8zfRjCHtxBo4"
      },
      "outputs": [],
      "source": [
        "import numpy as np\n",
        "from numpy.random import randn"
      ]
    },
    {
      "cell_type": "code",
      "source": [
        "np.set_printoptions(precision=2)"
      ],
      "metadata": {
        "id": "OneYSqO0xTix"
      },
      "execution_count": 3,
      "outputs": []
    },
    {
      "cell_type": "markdown",
      "source": [
        "**Multiplying matrices and basic linear algebra**"
      ],
      "metadata": {
        "id": "tGO31aGwxdDf"
      }
    },
    {
      "cell_type": "code",
      "source": [
        "aa = np.array([[2.,4.,6.],[1.,3.,5.],[10.,20.,30.]])\n",
        "aa"
      ],
      "metadata": {
        "colab": {
          "base_uri": "https://localhost:8080/"
        },
        "id": "lGdJP7vSxcbq",
        "outputId": "f39417b3-30f3-4930-aed0-8020819470ca"
      },
      "execution_count": 4,
      "outputs": [
        {
          "output_type": "execute_result",
          "data": {
            "text/plain": [
              "array([[ 2.,  4.,  6.],\n",
              "       [ 1.,  3.,  5.],\n",
              "       [10., 20., 30.]])"
            ]
          },
          "metadata": {},
          "execution_count": 4
        }
      ]
    },
    {
      "cell_type": "code",
      "source": [
        "bb = np.array([[0.,1.,2.],[3.,4.,5.],[6.,7.,8.]])\n",
        "bb"
      ],
      "metadata": {
        "colab": {
          "base_uri": "https://localhost:8080/"
        },
        "id": "po-aSLzMxw5T",
        "outputId": "90aa1607-6855-44ad-b650-5fc35a17f9e1"
      },
      "execution_count": 7,
      "outputs": [
        {
          "output_type": "execute_result",
          "data": {
            "text/plain": [
              "array([[0., 1., 2.],\n",
              "       [3., 4., 5.],\n",
              "       [6., 7., 8.]])"
            ]
          },
          "metadata": {},
          "execution_count": 7
        }
      ]
    },
    {
      "cell_type": "code",
      "source": [
        "aa*bb"
      ],
      "metadata": {
        "colab": {
          "base_uri": "https://localhost:8080/"
        },
        "id": "xXBlZCdzx6wg",
        "outputId": "02707b09-127a-46b5-a86a-ee4728dab3df"
      },
      "execution_count": 8,
      "outputs": [
        {
          "output_type": "execute_result",
          "data": {
            "text/plain": [
              "array([[  0.,   4.,  12.],\n",
              "       [  3.,  12.,  25.],\n",
              "       [ 60., 140., 240.]])"
            ]
          },
          "metadata": {},
          "execution_count": 8
        }
      ]
    },
    {
      "cell_type": "code",
      "source": [
        "# first row and multiply by the first column\n",
        "# and so on\n",
        "np.dot(aa,bb)"
      ],
      "metadata": {
        "colab": {
          "base_uri": "https://localhost:8080/"
        },
        "id": "XTxP6xl4yCVc",
        "outputId": "97a9f9c0-f301-4295-c091-05730220cb02"
      },
      "execution_count": 9,
      "outputs": [
        {
          "output_type": "execute_result",
          "data": {
            "text/plain": [
              "array([[ 48.,  60.,  72.],\n",
              "       [ 39.,  48.,  57.],\n",
              "       [240., 300., 360.]])"
            ]
          },
          "metadata": {},
          "execution_count": 9
        }
      ]
    },
    {
      "cell_type": "code",
      "source": [
        ""
      ],
      "metadata": {
        "id": "KIboFOLnyVY1"
      },
      "execution_count": null,
      "outputs": []
    }
  ]
}